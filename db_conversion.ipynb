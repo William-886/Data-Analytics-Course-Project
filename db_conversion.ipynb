{
 "cells": [
  {
   "cell_type": "code",
   "execution_count": 1,
   "metadata": {},
   "outputs": [
    {
     "data": {
      "text/plain": [
       "<sqlite3.Cursor at 0x1a906fcd6c0>"
      ]
     },
     "execution_count": 1,
     "metadata": {},
     "output_type": "execute_result"
    }
   ],
   "source": [
    "import pandas as pd\n",
    "import sqlite3\n",
    "\n",
    "wikipedia = pd.read_excel('wikipedia_dataset_new.xlsx', sheet_name='Sheet1', header=0)\n",
    "\n",
    "db_conn = sqlite3.connect('wikipedia_dataset_new.db')\n",
    "c = db_conn.cursor()\n",
    "\n",
    "c.execute(\n",
    "    \"\"\"\n",
    "    CREATE TABLE wikipedia (\n",
    "        date DATETIME,\n",
    "        page VARCHAR,\n",
    "        visits INT,\n",
    "        page_language TEXT,\n",
    "        access_device_type VARCHAR,\n",
    "        day_of_the_week TEXT,\n",
    "        month TEXT\n",
    "        );\n",
    "    \"\"\"\n",
    ")"
   ]
  },
  {
   "cell_type": "code",
   "execution_count": 2,
   "metadata": {},
   "outputs": [
    {
     "data": {
      "text/plain": [
       "549000"
      ]
     },
     "execution_count": 2,
     "metadata": {},
     "output_type": "execute_result"
    }
   ],
   "source": [
    "wikipedia.to_sql('wikipedia', db_conn, if_exists='append', index=False)"
   ]
  },
  {
   "cell_type": "code",
   "execution_count": 3,
   "metadata": {},
   "outputs": [
    {
     "data": {
      "text/html": [
       "<div>\n",
       "<style scoped>\n",
       "    .dataframe tbody tr th:only-of-type {\n",
       "        vertical-align: middle;\n",
       "    }\n",
       "\n",
       "    .dataframe tbody tr th {\n",
       "        vertical-align: top;\n",
       "    }\n",
       "\n",
       "    .dataframe thead th {\n",
       "        text-align: right;\n",
       "    }\n",
       "</style>\n",
       "<table border=\"1\" class=\"dataframe\">\n",
       "  <thead>\n",
       "    <tr style=\"text-align: right;\">\n",
       "      <th></th>\n",
       "      <th>date</th>\n",
       "      <th>page</th>\n",
       "      <th>visits</th>\n",
       "      <th>page_language</th>\n",
       "      <th>access_device_type</th>\n",
       "      <th>day_of_the_week</th>\n",
       "      <th>month</th>\n",
       "    </tr>\n",
       "  </thead>\n",
       "  <tbody>\n",
       "    <tr>\n",
       "      <th>0</th>\n",
       "      <td>2016-01-01 00:00:00</td>\n",
       "      <td>.xxx_en.wikipedia.org_all-access_all-agents</td>\n",
       "      <td>7089</td>\n",
       "      <td>English</td>\n",
       "      <td>all-access</td>\n",
       "      <td>Friday</td>\n",
       "      <td>January</td>\n",
       "    </tr>\n",
       "    <tr>\n",
       "      <th>1</th>\n",
       "      <td>2016-01-01 00:00:00</td>\n",
       "      <td>.xxx_en.wikipedia.org_mobile-web_all-agents</td>\n",
       "      <td>6182</td>\n",
       "      <td>English</td>\n",
       "      <td>mobile-web</td>\n",
       "      <td>Friday</td>\n",
       "      <td>January</td>\n",
       "    </tr>\n",
       "    <tr>\n",
       "      <th>2</th>\n",
       "      <td>2016-01-01 00:00:00</td>\n",
       "      <td>1._Juli_de.wikipedia.org_desktop_all-agents</td>\n",
       "      <td>20</td>\n",
       "      <td>German</td>\n",
       "      <td>desktop</td>\n",
       "      <td>Friday</td>\n",
       "      <td>January</td>\n",
       "    </tr>\n",
       "    <tr>\n",
       "      <th>3</th>\n",
       "      <td>2016-01-01 00:00:00</td>\n",
       "      <td>2014_FIFA_World_Cup_en.wikipedia.org_all-acces...</td>\n",
       "      <td>5363</td>\n",
       "      <td>English</td>\n",
       "      <td>all-access</td>\n",
       "      <td>Friday</td>\n",
       "      <td>January</td>\n",
       "    </tr>\n",
       "    <tr>\n",
       "      <th>4</th>\n",
       "      <td>2016-01-01 00:00:00</td>\n",
       "      <td>2014_FIFA_World_Cup_en.wikipedia.org_desktop_a...</td>\n",
       "      <td>3186</td>\n",
       "      <td>English</td>\n",
       "      <td>desktop</td>\n",
       "      <td>Friday</td>\n",
       "      <td>January</td>\n",
       "    </tr>\n",
       "  </tbody>\n",
       "</table>\n",
       "</div>"
      ],
      "text/plain": [
       "                  date                                               page  \\\n",
       "0  2016-01-01 00:00:00        .xxx_en.wikipedia.org_all-access_all-agents   \n",
       "1  2016-01-01 00:00:00        .xxx_en.wikipedia.org_mobile-web_all-agents   \n",
       "2  2016-01-01 00:00:00        1._Juli_de.wikipedia.org_desktop_all-agents   \n",
       "3  2016-01-01 00:00:00  2014_FIFA_World_Cup_en.wikipedia.org_all-acces...   \n",
       "4  2016-01-01 00:00:00  2014_FIFA_World_Cup_en.wikipedia.org_desktop_a...   \n",
       "\n",
       "   visits page_language access_device_type day_of_the_week    month  \n",
       "0    7089       English         all-access          Friday  January  \n",
       "1    6182       English         mobile-web          Friday  January  \n",
       "2      20        German            desktop          Friday  January  \n",
       "3    5363       English         all-access          Friday  January  \n",
       "4    3186       English            desktop          Friday  January  "
      ]
     },
     "execution_count": 3,
     "metadata": {},
     "output_type": "execute_result"
    }
   ],
   "source": [
    "pd.read_sql(\"SELECT * FROM wikipedia LIMIT 5\", db_conn)"
   ]
  }
 ],
 "metadata": {
  "kernelspec": {
   "display_name": "Python 3",
   "language": "python",
   "name": "python3"
  },
  "language_info": {
   "codemirror_mode": {
    "name": "ipython",
    "version": 3
   },
   "file_extension": ".py",
   "mimetype": "text/x-python",
   "name": "python",
   "nbconvert_exporter": "python",
   "pygments_lexer": "ipython3",
   "version": "3.11.4"
  },
  "orig_nbformat": 4
 },
 "nbformat": 4,
 "nbformat_minor": 2
}
